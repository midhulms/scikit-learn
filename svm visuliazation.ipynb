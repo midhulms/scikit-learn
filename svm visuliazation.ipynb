{
 "cells": [
  {
   "cell_type": "code",
   "execution_count": 97,
   "metadata": {},
   "outputs": [],
   "source": [
    "%matplotlib widget\n",
    "import numpy as np\n",
    "import pandas as pd\n",
    "from sklearn import svm,datasets\n",
    "from sklearn.model_selection import train_test_split\n",
    "import matplotlib.pyplot as plt"
   ]
  },
  {
   "cell_type": "code",
   "execution_count": 106,
   "metadata": {},
   "outputs": [],
   "source": [
    "iris = datasets.load_iris()"
   ]
  },
  {
   "cell_type": "code",
   "execution_count": 107,
   "metadata": {},
   "outputs": [],
   "source": [
    "#we select only two parameters (sepal length (cm),sepal width (cm)) from iris  for svm visulization\n",
    "x=pd.DataFrame(iris.data[:,:2],columns=iris.feature_names[:2])\n",
    "\n",
    "#we crate our target data frame (species)\n",
    "y=pd.DataFrame(iris.target,columns=[\"species\"],dtype=\"category\")\n"
   ]
  },
  {
   "cell_type": "code",
   "execution_count": 108,
   "metadata": {},
   "outputs": [],
   "source": [
    "svc = svm.SVC(kernel=\"rbf\",C=1,gamma=\"auto\")\n"
   ]
  },
  {
   "cell_type": "code",
   "execution_count": 109,
   "metadata": {},
   "outputs": [
    {
     "name": "stderr",
     "output_type": "stream",
     "text": [
      "/home/cryzal/ml/myenv/lib/python3.8/site-packages/sklearn/utils/validation.py:73: DataConversionWarning: A column-vector y was passed when a 1d array was expected. Please change the shape of y to (n_samples, ), for example using ravel().\n",
      "  return f(**kwargs)\n"
     ]
    },
    {
     "data": {
      "text/plain": [
       "SVC(C=1, gamma='auto')"
      ]
     },
     "execution_count": 109,
     "metadata": {},
     "output_type": "execute_result"
    }
   ],
   "source": [
    "#this split validation \n",
    "x_train,x_test,y_train,y_test =train_test_split(x,y,test_size=0.3,random_state =0 ) \n",
    "svc.fit(x_train,y_train)\n"
   ]
  },
  {
   "cell_type": "code",
   "execution_count": 110,
   "metadata": {},
   "outputs": [
    {
     "name": "stdout",
     "output_type": "stream",
     "text": [
      "5.4\n",
      "1.0\n",
      "8.9\n",
      "3.3\n"
     ]
    },
    {
     "data": {
      "text/plain": [
       "0.026969696969696973"
      ]
     },
     "execution_count": 110,
     "metadata": {},
     "output_type": "execute_result"
    }
   ],
   "source": [
    "#this is also for scaling the data\n",
    "#this is for create a mesh for svm \n",
    "#here x,y the two parameters we take sepallength,sepalwidth\n",
    "#x.iloc[:,0](sepal length (cm)),x.iloc[:,1](sepal width (cm),)\n",
    "#we take minnimum maximum of both\n",
    "\n",
    "x_min,x_max = x.iloc[:,0].min() - 1,x.iloc[:,0].max()+1\n",
    "y_min,y_max= x.iloc[:,1].min() - 1,x.iloc[:,1].max()+1\n",
    "#this for print\n",
    "print(y_max)\n",
    "print(y_min)\n",
    "print(x_max)\n",
    "print(x_min)\n",
    "h=(x_max/x_min)/100\n",
    "h"
   ]
  },
  {
   "cell_type": "code",
   "execution_count": 111,
   "metadata": {},
   "outputs": [],
   "source": [
    "#create a scaling array mesh for ploting \n",
    "xx,yy=np.meshgrid(np.arange(x_min,x_max,h),np.arange(y_min,y_max,h))\n",
    "z=svc.predict(np.c_[xx.ravel(),yy.ravel()])\n",
    "z=z.reshape(xx.shape)\n",
    "# z"
   ]
  },
  {
   "cell_type": "code",
   "execution_count": 112,
   "metadata": {},
   "outputs": [
    {
     "data": {
      "application/vnd.jupyter.widget-view+json": {
       "model_id": "73588d6621f64276b18d53ae8fa15506",
       "version_major": 2,
       "version_minor": 0
      },
      "text/plain": [
       "Canvas(toolbar=Toolbar(toolitems=[('Home', 'Reset original view', 'home', 'home'), ('Back', 'Back to previous …"
      ]
     },
     "metadata": {},
     "output_type": "display_data"
    },
    {
     "name": "stderr",
     "output_type": "stream",
     "text": [
      "<ipython-input-112-2e003c3592c1>:3: MatplotlibDeprecationWarning: shading='flat' when X and Y have the same dimensions as C is deprecated since 3.3.  Either specify the corners of the quadrilaterals with X and Y, or pass shading='auto', 'nearest' or 'gouraud', or set rcParams['pcolor.shading'].  This will become an error two minor releases later.\n",
      "  ax.pcolormesh(xx,yy,z,alpha=0.8)\n"
     ]
    }
   ],
   "source": [
    "fig=plt.figure(figsize=(8,8))\n",
    "ax=fig.add_subplot(1,1,1)\n",
    "ax.pcolormesh(xx,yy,z,alpha=0.8)\n",
    "ax.scatter(x.iloc[:,0],x.iloc[:,1],c=y['species'].cat.codes,cmap=plt.cm.Paired)\n",
    "ax.set_xlabel(iris.feature_names[0])\n",
    "ax.set_ylabel(iris.feature_names[1])\n",
    "plt.show()"
   ]
  }
 ],
 "metadata": {
  "kernelspec": {
   "display_name": "Python 3",
   "language": "python",
   "name": "python3"
  },
  "language_info": {
   "codemirror_mode": {
    "name": "ipython",
    "version": 3
   },
   "file_extension": ".py",
   "mimetype": "text/x-python",
   "name": "python",
   "nbconvert_exporter": "python",
   "pygments_lexer": "ipython3",
   "version": "3.8.2"
  }
 },
 "nbformat": 4,
 "nbformat_minor": 4
}
